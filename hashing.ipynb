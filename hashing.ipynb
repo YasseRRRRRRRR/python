{
 "cells": [
  {
   "cell_type": "code",
   "execution_count": null,
   "metadata": {},
   "outputs": [],
   "source": [
    "\"write a method that from a given position finds the next free slot of the table.\"|"
   ]
  },
  {
   "cell_type": "code",
   "execution_count": null,
   "metadata": {},
   "outputs": [],
   "source": [
    "def method:\n",
    "    for i in range(given_position, len(Table)):    \n",
    "        if(Table[i] is None):\n",
    "            return i\n",
    "        else:\n",
    "            return None \n",
    "\n"
   ]
  }
 ],
 "metadata": {
  "language_info": {
   "name": "python"
  }
 },
 "nbformat": 4,
 "nbformat_minor": 2
}
