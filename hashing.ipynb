{
 "cells": [
  {
   "cell_type": "code",
   "execution_count": null,
   "metadata": {},
   "outputs": [],
   "source": [
    "class HashItem():\n",
    "    def __init__(self, key, value):\n",
    "        self.key = key\n",
    "        self.value = value\n",
    "    def __repr__(self):\n",
    "        return f'{{{self.key}: {self.value}}}'\n"
   ]
  },
  {
   "cell_type": "code",
   "execution_count": null,
   "metadata": {},
   "outputs": [],
   "source": [
    "class HashTable():\n",
    "    def __init__(self, size=20):\n",
    "        self.size = size\n",
    "        self.slots = [None] * size\n",
    "        self.used_slots = 0\n",
    "        \n",
    "    def __repr__(self):\n",
    "        text = ''\n",
    "        for index, slot in enumerate(self.slots):\n",
    "            if slot:\n",
    "                text += f', {index}: {slot}'\n",
    "        plural = '' if self.used_slots == 1 else 's'\n",
    "        return f'<HashTable ({self.used_slots} element{plural}): [{text.lstrip(\", \")}]'"
   ]
  },
  {
   "cell_type": "code",
   "execution_count": null,
   "metadata": {},
   "outputs": [],
   "source": [
    "def _hash(self, key):\n",
    "    return len(key) % self.size"
   ]
  },
  {
   "cell_type": "markdown",
   "metadata": {},
   "source": [
    "write a method that from a given position finds the next free slot of the table."
   ]
  },
  {
   "cell_type": "code",
   "execution_count": null,
   "metadata": {},
   "outputs": [],
   "source": [
    "def FindIfNextSlotEmpty(self, start):\n",
    "    \"\"\"Parameters:\n",
    "    - 'start': Starting index\n",
    "    - 'key': The key to be found\n",
    "    \"\"\"\n",
    "    current = start\n",
    "    # Starting from 'start', find the next free slot available.Parameters\n",
    "    while self.slots[current]:\n",
    "        current = (current + 1) % self.size\n",
    "        if current == start:\n",
    "            return None\n",
    "    return current\n",
    "    # Returns: The index position of the key or None if not found\n"
   ]
  },
  {
   "cell_type": "markdown",
   "metadata": {},
   "source": [
    "write a method that add or updates a key with a value"
   ]
  },
  {
   "cell_type": "code",
   "execution_count": null,
   "metadata": {},
   "outputs": [],
   "source": [
    "def UpdateKeyWithValue(self, key, value):\n",
    "    self.value = _hash(key)\n",
    "    for i in range(self.size):\n",
    "        if (value == i):\n",
    "            value = FindIfNextSlotEmpty(self, value)\n",
    "\n",
    "    return value"
   ]
  },
  {
   "cell_type": "code",
   "execution_count": null,
   "metadata": {},
   "outputs": [],
   "source": []
  }
 ],
 "metadata": {
  "language_info": {
   "name": "python"
  }
 },
 "nbformat": 4,
 "nbformat_minor": 2
}
